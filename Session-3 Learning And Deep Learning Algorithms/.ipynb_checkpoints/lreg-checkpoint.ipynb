{
 "cells": [
  {
   "cell_type": "code",
   "execution_count": 1,
   "metadata": {
    "collapsed": true
   },
   "outputs": [],
   "source": [
    "import numpy as np\n",
    "import matplotlib.pyplot as plt\n",
    "%matplotlib inline \n",
    "import seaborn as sns\n",
    "from sklearn.datasets import make_regression "
   ]
  },
  {
   "cell_type": "code",
   "execution_count": null,
   "metadata": {
    "collapsed": true
   },
   "outputs": [],
   "source": []
  },
  {
   "cell_type": "code",
   "execution_count": 2,
   "metadata": {},
   "outputs": [
    {
     "name": "stdout",
     "output_type": "stream",
     "text": [
      "(601, 1)\n",
      "(601,)\n",
      "34.82090254403456\n"
     ]
    }
   ],
   "source": [
    "X,y,cof = make_regression(n_samples=601,n_features=1,bias=20,noise=2.1,coef=True)\n",
    "print(X.shape)\n",
    "print(y.shape)\n",
    "print(cof)"
   ]
  },
  {
   "cell_type": "code",
   "execution_count": 3,
   "metadata": {},
   "outputs": [
    {
     "name": "stdout",
     "output_type": "stream",
     "text": [
      "<matplotlib.collections.PathCollection object at 0x000001B5E9878EF0>\n"
     ]
    },
    {
     "data": {
      "image/png": "[encoded data removed]",
      "text/plain": [
       "<matplotlib.figure.Figure at 0x1b5e5b50a20>"
      ]
     },
     "metadata": {},
     "output_type": "display_data"
    }
   ],
   "source": [
    "print(plt.scatter(X[:,0],y))"
   ]
  },
  {
   "cell_type": "code",
   "execution_count": 4,
   "metadata": {},
   "outputs": [
    {
     "name": "stdout",
     "output_type": "stream",
     "text": [
      "(480, 1) (480,)\n",
      "(121, 1) (121,)\n"
     ]
    }
   ],
   "source": [
    "split = int(0.8 * X.shape[0])\n",
    "\n",
    "X_train = X[:split]\n",
    "Y_train = y[:split]\n",
    "\n",
    "X_test = X[split:]\n",
    "Y_test = y[split:]\n",
    "\n",
    "print(X_train.shape,Y_train.shape)\n",
    "print(X_test.shape,Y_test.shape)\n"
   ]
  },
  {
   "cell_type": "code",
   "execution_count": 5,
   "metadata": {
    "collapsed": true
   },
   "outputs": [],
   "source": [
    "def hypo(x,w):\n",
    "    return(x*w[1]+w[0])\n",
    "\n",
    "def error(y_true,x,w):\n",
    "    er=0\n",
    "    \n",
    "    m=x.shape[0]\n",
    "    for i in range(m):\n",
    "        er+=((y_true[i]-hypo(x[i],w))**2)\n",
    "    er/=(2*m)\n",
    "    return er\n",
    "\n",
    "def grad(y_true,x,w):\n",
    "    gr0=0\n",
    "    gr1=0\n",
    "    \n",
    "    m=x.shape[0]\n",
    "    \n",
    "    for i in range(m):\n",
    "        gr0+=(y_true[i]-hypo(x[i],w))*-1\n",
    "        gr1+=(y_true[i]-hypo(x[i],w))*(-1*x[i])\n",
    "    \n",
    "    gr0/=m\n",
    "    gr1/=m\n",
    "    \n",
    "    return [gr0,gr1]\n",
    "\n",
    "def grades(y_true,x,w,lrate=0.1):\n",
    "    eror=error(y_true,x,w)\n",
    "    [gr0,gr1]=grad(y_true,x,w)\n",
    "    \n",
    "    w[0]-=gr0*lrate\n",
    "    w[1]-=gr1*lrate\n",
    "    \n",
    "    return eror,w"
   ]
  },
  {
   "cell_type": "code",
   "execution_count": 6,
   "metadata": {
    "collapsed": true
   },
   "outputs": [],
   "source": [
    "W = np.array([0.1,0.1])\n",
    "loss = []"
   ]
  },
  {
   "cell_type": "code",
   "execution_count": 7,
   "metadata": {},
   "outputs": [
    {
     "name": "stdout",
     "output_type": "stream",
     "text": [
      "[array([ 883.34090169]), array([ 699.14031305]), array([ 553.44152576]), array([ 438.19646381]), array([ 347.03942194]), array([ 274.93536932]), array([ 217.90177708]), array([ 172.78859879]), array([ 137.1042464]), array([ 108.87794592]), array([ 86.55086741]), array([ 68.89001383]), array([ 54.92011096]), array([ 43.86973521]), array([ 35.12870291]), array([ 28.21436682]), array([ 22.74495799]), array([ 18.41849997]), array([ 14.99613066]), array([ 12.28891043]), array([ 10.1473876]), array([ 8.45334507]), array([ 7.11327207]), array([ 6.05320039]), array([ 5.21461998]), array([ 4.55124823]), array([ 4.02647448]), array([ 3.61133869]), array([ 3.28293254]), array([ 3.02313471]), array([ 2.8176105]), array([ 2.65502053]), array([ 2.52639478]), array([ 2.42463748]), array([ 2.34413544]), array([ 2.28044827]), array([ 2.23006333]), array([ 2.19020184]), array([ 2.15866557]), array([ 2.13371552]), array([ 2.113976]), array([ 2.09835868]), array([ 2.08600261]), array([ 2.07622664]), array([ 2.06849194]), array([ 2.06237222]), array([ 2.0575302]), array([ 2.05369909]), array([ 2.05066779]), array([ 2.04826929]), array([ 2.04637147]), array([ 2.04486979]), array([ 2.04368155]), array([ 2.04274131]), array([ 2.0419973]), array([ 2.04140855]), array([ 2.04094267]), array([ 2.04057399]), array([ 2.04028225]), array([ 2.04005137]), array([ 2.03986866]), array([ 2.03972406]), array([ 2.03960963]), array([ 2.03951906]), array([ 2.03944738]), array([ 2.03939065]), array([ 2.03934576]), array([ 2.03931022]), array([ 2.03928209]), array([ 2.03925983]), array([ 2.03924221]), array([ 2.03922826]), array([ 2.03921721]), array([ 2.03920847]), array([ 2.03920155]), array([ 2.03919608]), array([ 2.03919174]), array([ 2.03918831]), array([ 2.03918559]), array([ 2.03918344]), array([ 2.03918173]), array([ 2.03918039]), array([ 2.03917932]), array([ 2.03917847]), array([ 2.0391778]), array([ 2.03917727]), array([ 2.03917685]), array([ 2.03917652]), array([ 2.03917626]), array([ 2.03917605]), array([ 2.03917588]), array([ 2.03917575]), array([ 2.03917565]), array([ 2.03917556]), array([ 2.0391755]), array([ 2.03917545]), array([ 2.03917541]), array([ 2.03917537]), array([ 2.03917535]), array([ 2.03917533])]\n"
     ]
    }
   ],
   "source": [
    "\n",
    "for i in range(100):\n",
    "    l, W = grades(Y_train,X_train, W, lrate=0.1)\n",
    "    loss.append(l)\n",
    "print(loss)"
   ]
  },
  {
   "cell_type": "code",
   "execution_count": 8,
   "metadata": {},
   "outputs": [
    {
     "data": {
      "image/png": "[encoded data removed]",
      "text/plain": [
       "<matplotlib.figure.Figure at 0x1b5e9a39128>"
      ]
     },
     "metadata": {},
     "output_type": "display_data"
    }
   ],
   "source": [
    "plt.scatter(X[:,0],y)\n",
    "y_0 = hypo(-3,W)\n",
    "y_1 = hypo(3,W)\n",
    "\n",
    "plt.plot([-3,3],[y_0,y_1],'r*-')\n",
    "plt.show()"
   ]
  },
  {
   "cell_type": "code",
   "execution_count": 10,
   "metadata": {},
   "outputs": [
    {
     "data": {
      "text/plain": [
       "[<matplotlib.lines.Line2D at 0x1b5e9a1c160>]"
      ]
     },
     "execution_count": 10,
     "metadata": {},
     "output_type": "execute_result"
    },
    {
     "data": {
      "image/png": "[encoded data removed]",
      "text/plain": [
       "<matplotlib.figure.Figure at 0x1b5e9d9f358>"
      ]
     },
     "metadata": {},
     "output_type": "display_data"
    }
   ],
   "source": [
    "plt.plot(loss)"
   ]
  },
  {
   "cell_type": "code",
   "execution_count": null,
   "metadata": {
    "collapsed": true
   },
   "outputs": [],
   "source": []
  },
  {
   "cell_type": "code",
   "execution_count": null,
   "metadata": {
    "collapsed": true
   },
   "outputs": [],
   "source": []
  }
 ],
 "metadata": {
  "kernelspec": {
   "display_name": "Python 3",
   "language": "python",
   "name": "python3"
  },
  "language_info": {
   "codemirror_mode": {
    "name": "ipython",
    "version": 3
   },
   "file_extension": ".py",
   "mimetype": "text/x-python",
   "name": "python",
   "nbconvert_exporter": "python",
   "pygments_lexer": "ipython3",
   "version": "3.6.3"
  }
 },
 "nbformat": 4,
 "nbformat_minor": 2
}
