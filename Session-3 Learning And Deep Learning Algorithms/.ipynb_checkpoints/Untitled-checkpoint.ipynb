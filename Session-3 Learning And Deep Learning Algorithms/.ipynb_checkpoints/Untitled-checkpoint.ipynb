{
 "cells": [
  {
   "cell_type": "code",
   "execution_count": 27,
   "metadata": {
    "collapsed": true
   },
   "outputs": [],
   "source": [
    "import numpy as np\n",
    "import matplotlib.pyplot as plt\n",
    "%matplotlib inline \n",
    "import seaborn as sns\n",
    "from sklearn.datasets import make_regression "
   ]
  },
  {
   "cell_type": "code",
   "execution_count": null,
   "metadata": {
    "collapsed": true
   },
   "outputs": [],
   "source": []
  },
  {
   "cell_type": "code",
   "execution_count": 28,
   "metadata": {},
   "outputs": [
    {
     "name": "stdout",
     "output_type": "stream",
     "text": [
      "(601, 1)\n",
      "(601,)\n",
      "88.43841572079697\n"
     ]
    }
   ],
   "source": [
    "X,y,cof = make_regression(n_samples=601,n_features=1,bias=20,noise=2.1,coef=True)\n",
    "print(X.shape)\n",
    "print(y.shape)\n",
    "print(cof)"
   ]
  },
  {
   "cell_type": "code",
   "execution_count": 29,
   "metadata": {},
   "outputs": [
    {
     "name": "stdout",
     "output_type": "stream",
     "text": [
      "<matplotlib.collections.PathCollection object at 0x000001A50A7E6DA0>\n"
     ]
    },
    {
     "data": {
      "image/png": "[encoded data removed]",
      "text/plain": [
       "<matplotlib.figure.Figure at 0x1a50a685dd8>"
      ]
     },
     "metadata": {},
     "output_type": "display_data"
    }
   ],
   "source": [
    "print(plt.scatter(X[:,0],y))"
   ]
  },
  {
   "cell_type": "code",
   "execution_count": 30,
   "metadata": {},
   "outputs": [
    {
     "name": "stdout",
     "output_type": "stream",
     "text": [
      "(480, 1) (480,)\n",
      "(121, 1) (121,)\n"
     ]
    }
   ],
   "source": [
    "split = int(0.8 * X.shape[0])\n",
    "\n",
    "X_train = X[:split]\n",
    "Y_train = y[:split]\n",
    "\n",
    "X_test = X[split:]\n",
    "Y_test = y[split:]\n",
    "\n",
    "print(X_train.shape,Y_train.shape)\n",
    "print(X_test.shape,Y_test.shape)\n"
   ]
  },
  {
   "cell_type": "code",
   "execution_count": 34,
   "metadata": {
    "collapsed": true
   },
   "outputs": [],
   "source": [
    "def hypo(x,w):\n",
    "    return(x*w[1]+w[0])\n",
    "\n",
    "def error(y_true,x,w):\n",
    "    er=0\n",
    "    \n",
    "    m=x.shape[0]\n",
    "    for i in range(m):\n",
    "        er+=((y_true[i]-hypo(x[i],w))**2)\n",
    "    er/=(2*m)\n",
    "    return er\n",
    "\n",
    "def grad(y_true,x,w):\n",
    "    gr0=0\n",
    "    gr1=0\n",
    "    \n",
    "    m=x.shape[0]\n",
    "    \n",
    "    for i in range(m):\n",
    "        gr0+=(y_true[i]-hypo(x[i],w))*-1\n",
    "        gr1+=(y_true[i]-hypo(x[i],w))*(-1*x[i])\n",
    "    \n",
    "    gr0/=m\n",
    "    gr1/=m\n",
    "    \n",
    "    return [gr0,gr1]\n",
    "\n",
    "def grades(y_true,x,w,lrate=0.1):\n",
    "    eror=error(y_true,x,w)\n",
    "    [gr0,gr1]=grad(y_true,x,w)\n",
    "    \n",
    "    w[0]-=gr0*lrate\n",
    "    w[1]-=gr1*lrate\n",
    "    \n",
    "    return eror,w"
   ]
  },
  {
   "cell_type": "code",
   "execution_count": 35,
   "metadata": {
    "collapsed": true
   },
   "outputs": [],
   "source": [
    "W = np.array([0.1,0.1])\n",
    "loss = []"
   ]
  },
  {
   "cell_type": "code",
   "execution_count": 36,
   "metadata": {},
   "outputs": [
    {
     "name": "stdout",
     "output_type": "stream",
     "text": [
      "[array([ 4259.56836054]), array([ 3421.26035692]), array([ 2748.14300957]), array([ 2207.64102063]), array([ 1773.60749577]), array([ 1425.05448045]), array([ 1145.13435568]), array([ 920.32248824]), array([ 739.76134574]), array([ 594.73415845]), array([ 478.24252346]), array([ 384.66741055]), array([ 309.49709102]), array([ 249.1087688]), array([ 200.59330649]), array([ 161.61453576]), array([ 130.29632325]), array([ 105.13191246]), array([ 84.91114459]), array([ 68.6620299]), array([ 55.60383786]), array([ 45.10943368]), array([ 36.67503722]), array([ 29.89594062]), array([ 24.4470095]), array([ 20.0670248]), array([ 16.54610818]), array([ 13.71562321]), array([ 11.44006463]), array([ 9.61054393]), array([ 8.13955684]), array([ 6.95678027]), array([ 6.00569611]), array([ 5.24087887]), array([ 4.62581682]), array([ 4.13116134]), array([ 3.73332044]), array([ 3.41332869]), array([ 3.15593909]), array([ 2.94889343]), array([ 2.78233593]), array([ 2.64834193]), array([ 2.54053924]), array([ 2.45380373]), array([ 2.38401464]), array([ 2.32785796]), array([ 2.28266835]), array([ 2.24630205]), array([ 2.21703472]), array([ 2.19347932]), array([ 2.17452006]), array([ 2.15925931]), array([ 2.14697492]), array([ 2.13708585]), array([ 2.12912461]), array([ 2.12271502]), array([ 2.1175544]), array([ 2.11339914]), array([ 2.11005319]), array([ 2.10735879]), array([ 2.10518894]), array([ 2.10344142]), array([ 2.10203396]), array([ 2.10090032]), array([ 2.09998718]), array([ 2.0992516]), array([ 2.09865904]), array([ 2.09818165]), array([ 2.09779704]), array([ 2.09748715]), array([ 2.09723745]), array([ 2.09703624]), array([ 2.0968741]), array([ 2.09674343]), array([ 2.09663812]), array([ 2.09655324]), array([ 2.09648482]), array([ 2.09642968]), array([ 2.09638522]), array([ 2.09634939]), array([ 2.09632049]), array([ 2.0962972]), array([ 2.09627842]), array([ 2.09626327]), array([ 2.09625106]), array([ 2.09624122]), array([ 2.09623327]), array([ 2.09622687]), array([ 2.0962217]), array([ 2.09621754]), array([ 2.09621417]), array([ 2.09621146]), array([ 2.09620928]), array([ 2.09620751]), array([ 2.09620609]), array([ 2.09620494]), array([ 2.09620401]), array([ 2.09620326]), array([ 2.09620266]), array([ 2.09620217])]\n"
     ]
    }
   ],
   "source": [
    "\n",
    "for i in range(100):\n",
    "    l, W = grades(Y_train,X_train, W, lrate=0.1)\n",
    "    loss.append(l)\n",
    "print(loss)"
   ]
  },
  {
   "cell_type": "code",
   "execution_count": 37,
   "metadata": {},
   "outputs": [
    {
     "data": {
      "image/png": "[encoded data removed]",
      "text/plain": [
       "<matplotlib.figure.Figure at 0x1a50a8306a0>"
      ]
     },
     "metadata": {},
     "output_type": "display_data"
    }
   ],
   "source": [
    "plt.scatter(X[:,0],y)\n",
    "y_0 = hypo(-3,W)\n",
    "y_1 = hypo(3,W)\n",
    "\n",
    "plt.plot([-3,3],[y_0,y_1],'r*-')\n",
    "plt.show()"
   ]
  },
  {
   "cell_type": "code",
   "execution_count": 38,
   "metadata": {},
   "outputs": [
    {
     "data": {
      "text/plain": [
       "[<matplotlib.lines.Line2D at 0x1a50a8c18d0>]"
      ]
     },
     "execution_count": 38,
     "metadata": {},
     "output_type": "execute_result"
    },
    {
     "data": {
      "image/png": "[encoded data removed]",
      "text/plain": [
       "<matplotlib.figure.Figure at 0x1a50a7d5160>"
      ]
     },
     "metadata": {},
     "output_type": "display_data"
    }
   ],
   "source": [
    "plt.plot(loss)"
   ]
  },
  {
   "cell_type": "code",
   "execution_count": null,
   "metadata": {
    "collapsed": true
   },
   "outputs": [],
   "source": []
  }
 ],
 "metadata": {
  "kernelspec": {
   "display_name": "Python 3",
   "language": "python",
   "name": "python3"
  },
  "language_info": {
   "codemirror_mode": {
    "name": "ipython",
    "version": 3
   },
   "file_extension": ".py",
   "mimetype": "text/x-python",
   "name": "python",
   "nbconvert_exporter": "python",
   "pygments_lexer": "ipython3",
   "version": "3.6.3"
  }
 },
 "nbformat": 4,
 "nbformat_minor": 2
}
